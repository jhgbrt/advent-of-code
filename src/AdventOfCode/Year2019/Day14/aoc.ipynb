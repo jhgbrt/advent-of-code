{
 "cells": [
  {
   "cell_type": "code",
   "execution_count": 1,
   "metadata": {
    "dotnet_interactive": {
     "language": "csharp"
    },
    "polyglot_notebook": {
     "kernelName": "csharp"
    }
   },
   "outputs": [
    {
     "name": "stdout",
     "output_type": "stream",
     "text": [
      "9 ORE => 2 A\n",
      "8 ORE => 3 B\n",
      "7 ORE => 5 C\n",
      "3 A, 4 B => 1 AB\n",
      "5 B, 7 C => 1 BC\n",
      "4 C, 1 A => 1 CA\n",
      "2 AB, 3 BC, 4 CA => 1 FUEL\n",
      "9 ORE => 2 A\n",
      "8 ORE => 3 B\n",
      "7 ORE => 5 C\n",
      "3 A,4 B => 1 AB\n",
      "5 B,7 C => 1 BC\n",
      "4 C,1 A => 1 CA\n",
      "2 AB,3 BC,4 CA => 1 FUEL\n"
     ]
    }
   ],
   "source": [
    "#r \"..\\..\\bin\\debug\\net7.0\\AdventOfCode.dll\"\n",
    "using System.IO;\n",
    "using System.Text.RegularExpressions;\n",
    "using AdventOfCode;\n",
    "using AdventOfCode.Year2019.Day14;\n",
    "\n",
    "var input = File.ReadAllLines(\"sample1.txt\");\n",
    "\n",
    "foreach (var line in input)\n",
    "    Console.WriteLine(line);\n",
    "\n",
    "\n",
    "var reactions = AoC201914.GetReactions(input);\n",
    "\n",
    "foreach (var line in reactions)\n",
    "    Console.WriteLine(line);\n",
    "\n",
    "\n",
    "\n",
    "\n"
   ]
  },
  {
   "cell_type": "code",
   "execution_count": 2,
   "metadata": {
    "dotnet_interactive": {
     "language": "csharp"
    },
    "polyglot_notebook": {
     "kernelName": "csharp"
    }
   },
   "outputs": [
    {
     "ename": "Error",
     "evalue": "(1,31): error CS0742: A query body must end with a select clause or a group clause\r\n(1,31): error CS1002: ; expected",
     "output_type": "error",
     "traceback": [
      "(1,31): error CS0742: A query body must end with a select clause or a group clause\r\n",
      "(1,31): error CS1002: ; expected"
     ]
    }
   ],
   "source": []
  }
 ],
 "metadata": {
  "kernelspec": {
   "display_name": ".NET (C#)",
   "language": "C#",
   "name": ".net-csharp"
  },
  "polyglot_notebook": {
   "kernelInfo": {
    "defaultKernelName": "csharp",
    "items": [
     {
      "aliases": [],
      "name": "csharp"
     }
    ]
   }
  }
 },
 "nbformat": 4,
 "nbformat_minor": 2
}
