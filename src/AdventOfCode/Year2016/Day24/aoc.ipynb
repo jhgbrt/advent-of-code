{
 "cells": [
  {
   "cell_type": "code",
   "execution_count": 17,
   "metadata": {
    "dotnet_interactive": {
     "language": "csharp"
    },
    "polyglot_notebook": {
     "kernelName": "csharp"
    }
   },
   "outputs": [
    {
     "data": {
      "text/html": [
       "<div class=\"dni-plaintext\"><pre>502</pre></div><style>\r\n",
       ".dni-code-hint {\r\n",
       "    font-style: italic;\r\n",
       "    overflow: hidden;\r\n",
       "    white-space: nowrap;\r\n",
       "}\r\n",
       ".dni-treeview {\r\n",
       "    white-space: nowrap;\r\n",
       "}\r\n",
       ".dni-treeview td {\r\n",
       "    vertical-align: top;\r\n",
       "    text-align: start;\r\n",
       "}\r\n",
       "details.dni-treeview {\r\n",
       "    padding-left: 1em;\r\n",
       "}\r\n",
       "table td {\r\n",
       "    text-align: start;\r\n",
       "}\r\n",
       "table tr { \r\n",
       "    vertical-align: top; \r\n",
       "    margin: 0em 0px;\r\n",
       "}\r\n",
       "table tr td pre \r\n",
       "{ \r\n",
       "    vertical-align: top !important; \r\n",
       "    margin: 0em 0px !important;\r\n",
       "} \r\n",
       "table th {\r\n",
       "    text-align: start;\r\n",
       "}\r\n",
       "</style>"
      ]
     },
     "metadata": {},
     "output_type": "display_data"
    }
   ],
   "source": [
    "using System.IO;\n",
    "\n",
    "var input = File.ReadAllLines(\"input.txt\");\n",
    "\n",
    "var q = from y in Enumerable.Range(0, input.Length)\n",
    "        from x in Enumerable.Range(0, input[y].Length)\n",
    "        select (x, y, c:input[y][x]);\n",
    "\n",
    "var grid = q.ToDictionary(x => new Coordinate(x.x,x.y), x => x.c);\n",
    "var locations  = grid\n",
    "    .Where(kv => char.IsDigit(kv.Value)).Select(kv => kv.Key)\n",
    "    .ToList();\n",
    "var start = locations.Single(c => grid[c] == '0');\n",
    "var maxX = grid.Max(kv => kv.Key.x);\n",
    "var maxY = grid.Max(kv => kv.Key.y);\n",
    "\n",
    "var distances = (\n",
    "    from src in locations\n",
    "    from dst in locations\n",
    "    where src != dst\n",
    "    let distance = Distance(src, dst)\n",
    "    select (src, dst, distance)\n",
    "    ).ToDictionary(x => (x.src,x.dst), x => x.distance);\n",
    "\n",
    "var minimum = int.MaxValue;\n",
    "foreach (var path in GetPermutations(locations.Except(new[]{start}), locations.Count - 1))\n",
    "{\n",
    "    var distance = 0;\n",
    "    foreach (var (src, dst) in Windowed2(new[]{start}.Concat(path)))\n",
    "    {\n",
    "        distance += distances[(src, dst)];\n",
    "    }\n",
    "    minimum = Math.Min(distance, minimum);\n",
    "}\n",
    "\n",
    "minimum.Display();\n",
    "\n",
    "\n",
    "\n",
    "int Distance(Coordinate from, Coordinate to)\n",
    "{\n",
    "    var queue = new Queue<(Coordinate to, int distance)>();\n",
    "    queue.Enqueue((from, distance: 0));\n",
    "    var visited = new HashSet<Coordinate> { from };\n",
    "    while (queue.Any())\n",
    "    {\n",
    "        var (current, distance) = queue.Dequeue();\n",
    "        if (current == to)\n",
    "        {\n",
    "            return distance;\n",
    "        }\n",
    "        foreach (var n in current.Neighbours(maxX, maxY))\n",
    "        {\n",
    "            if (!visited.Contains(n) && grid[n] != '#')\n",
    "            {\n",
    "                queue.Enqueue((n, distance + 1));\n",
    "                visited.Add(n);\n",
    "            }\n",
    "        }\n",
    "    }\n",
    "    return -1;\n",
    "}\n",
    "IEnumerable<IEnumerable<T>> GetPermutations<T>(IEnumerable<T> list, int length) => length == 1\n",
    "        ? list.Select(t => new[]{t})\n",
    "        : from t in GetPermutations(list, length - 1)\n",
    "          from e in list.Except(t)\n",
    "          select t.Concat(new[]{e});\n",
    "\n",
    "IEnumerable<(T a, T b)> Windowed2<T>(IEnumerable<T> list)\n",
    "{\n",
    "    var enumerator = list.GetEnumerator();\n",
    "    if (!enumerator.MoveNext()) yield break;\n",
    "    var a = enumerator.Current;\n",
    "    while (true)\n",
    "    {\n",
    "        if (!enumerator.MoveNext()) yield break;\n",
    "        var b = enumerator.Current;\n",
    "        yield return (a, b);\n",
    "        a = b;\n",
    "    }\n",
    "}\n",
    "\n",
    "readonly record struct Coordinate(int x, int y)\n",
    "{\n",
    "    public IEnumerable<Coordinate> Neighbours(int maxX, int maxY)\n",
    "    {\n",
    "        if (x > 0) yield return this with { x = x - 1 };\n",
    "        if (y > 0) yield return this with { y = y - 1 };\n",
    "        if (x < maxX) yield return this with { x = x + 1 };\n",
    "        if (y < maxY) yield return this with { y = y + 1 };\n",
    "    }\n",
    "}"
   ]
  },
  {
   "cell_type": "code",
   "execution_count": 18,
   "metadata": {
    "dotnet_interactive": {
     "language": "javascript"
    },
    "polyglot_notebook": {
     "kernelName": "javascript"
    }
   },
   "outputs": [],
   "source": []
  }
 ],
 "metadata": {
  "kernelspec": {
   "display_name": ".NET (C#)",
   "language": "C#",
   "name": ".net-csharp"
  },
  "polyglot_notebook": {
   "kernelInfo": {
    "defaultKernelName": "csharp",
    "items": [
     {
      "aliases": [
       "c#",
       "C#"
      ],
      "languageName": "C#",
      "name": "csharp"
     },
     {
      "aliases": [
       "frontend"
      ],
      "name": "vscode"
     },
     {
      "aliases": [],
      "name": ".NET"
     },
     {
      "aliases": [
       "f#",
       "F#"
      ],
      "languageName": "F#",
      "name": "fsharp"
     },
     {
      "aliases": [],
      "languageName": "HTML",
      "name": "html"
     },
     {
      "aliases": [
       "js"
      ],
      "languageName": "JavaScript",
      "name": "javascript"
     },
     {
      "aliases": [],
      "languageName": "KQL",
      "name": "kql"
     },
     {
      "aliases": [],
      "languageName": "Mermaid",
      "name": "mermaid"
     },
     {
      "aliases": [
       "powershell"
      ],
      "languageName": "PowerShell",
      "name": "pwsh"
     },
     {
      "aliases": [],
      "languageName": "SQL",
      "name": "sql"
     },
     {
      "aliases": [],
      "name": "value"
     },
     {
      "aliases": [],
      "name": "webview"
     }
    ]
   }
  }
 },
 "nbformat": 4,
 "nbformat_minor": 2
}
