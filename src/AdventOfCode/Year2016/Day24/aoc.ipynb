{
 "cells": [
  {
   "cell_type": "code",
   "execution_count": 1,
   "metadata": {
    "dotnet_interactive": {
     "language": "csharp"
    },
    "polyglot_notebook": {
     "kernelName": "csharp"
    }
   },
   "outputs": [
    {
     "data": {
      "text/html": [
       "<table><thead><tr><th><i>index</i></th><th>x</th><th>y</th></tr></thead><tbody><tr><td>0</td><td><div class=\"dni-plaintext\"><pre>143</pre></div></td><td><div class=\"dni-plaintext\"><pre>1</pre></div></td></tr><tr><td>1</td><td><div class=\"dni-plaintext\"><pre>167</pre></div></td><td><div class=\"dni-plaintext\"><pre>9</pre></div></td></tr><tr><td>2</td><td><div class=\"dni-plaintext\"><pre>35</pre></div></td><td><div class=\"dni-plaintext\"><pre>11</pre></div></td></tr><tr><td>3</td><td><div class=\"dni-plaintext\"><pre>5</pre></div></td><td><div class=\"dni-plaintext\"><pre>19</pre></div></td></tr><tr><td>4</td><td><div class=\"dni-plaintext\"><pre>175</pre></div></td><td><div class=\"dni-plaintext\"><pre>21</pre></div></td></tr><tr><td>5</td><td><div class=\"dni-plaintext\"><pre>13</pre></div></td><td><div class=\"dni-plaintext\"><pre>31</pre></div></td></tr><tr><td>6</td><td><div class=\"dni-plaintext\"><pre>159</pre></div></td><td><div class=\"dni-plaintext\"><pre>31</pre></div></td></tr><tr><td>7</td><td><div class=\"dni-plaintext\"><pre>53</pre></div></td><td><div class=\"dni-plaintext\"><pre>37</pre></div></td></tr></tbody></table><style>\r\n",
       ".dni-code-hint {\r\n",
       "    font-style: italic;\r\n",
       "    overflow: hidden;\r\n",
       "    white-space: nowrap;\r\n",
       "}\r\n",
       ".dni-treeview {\r\n",
       "    white-space: nowrap;\r\n",
       "}\r\n",
       ".dni-treeview td {\r\n",
       "    vertical-align: top;\r\n",
       "    text-align: start;\r\n",
       "}\r\n",
       "details.dni-treeview {\r\n",
       "    padding-left: 1em;\r\n",
       "}\r\n",
       "table td {\r\n",
       "    text-align: start;\r\n",
       "}\r\n",
       "table tr { \r\n",
       "    vertical-align: top; \r\n",
       "    margin: 0em 0px;\r\n",
       "}\r\n",
       "table tr td pre \r\n",
       "{ \r\n",
       "    vertical-align: top !important; \r\n",
       "    margin: 0em 0px !important;\r\n",
       "} \r\n",
       "table th {\r\n",
       "    text-align: start;\r\n",
       "}\r\n",
       "</style>"
      ]
     },
     "metadata": {},
     "output_type": "display_data"
    },
    {
     "data": {
      "text/html": [
       "<table><thead><tr><th>x</th><th>y</th></tr></thead><tbody><tr><td><div class=\"dni-plaintext\"><pre>35</pre></div></td><td><div class=\"dni-plaintext\"><pre>11</pre></div></td></tr></tbody></table>"
      ]
     },
     "metadata": {},
     "output_type": "display_data"
    }
   ],
   "source": [
    "using System.IO;\n",
    "\n",
    "var input = File.ReadAllLines(\"input.txt\");\n",
    "\n",
    "var q = from y in Enumerable.Range(0, input.Length)\n",
    "        from x in Enumerable.Range(0, input[y].Length)\n",
    "        select (x, y, c:input[y][x]);\n",
    "\n",
    "var grid = q.ToDictionary(x => new Coordinate(x.x,x.y), x => x.c);\n",
    "var locations  = grid.Where(kv => char.IsDigit(kv.Value)).Select(kv => kv.Key).ToList();\n",
    "var start = locations.Single(c => grid[c] == '0');\n",
    "var maxX = grid.Max(kv => kv.Key.x);\n",
    "var maxY = grid.Max(kv => kv.Key.y);\n",
    "\n",
    "foreach (var location in locations)\n",
    "{\n",
    "    var queue = new Queue<Coordinate>();\n",
    "    queue.Enqueue(start);\n",
    "    var remaining = new HashSet<Coordinate>(locations);\n",
    "    var distances = new Dictionary<int,int>();\n",
    "    var visited = new HashSet<Coordinate>();\n",
    "\n",
    "    while (queue.Any() && remaining.Any())\n",
    "    {\n",
    "        var current = queue.Dequeue();\n",
    "\n",
    "        if (visited.Contains(current))\n",
    "        {\n",
    "            continue;\n",
    "        }\n",
    "\n",
    "        visited.Add(current);\n",
    "\n",
    "        foreach (var n in current.Neighbours(maxX, maxY))\n",
    "        {\n",
    "            if (grid[n] != '#')\n",
    "                queue.Enqueue(n);\n",
    "        }\n",
    "\n",
    "    }\n",
    "\n",
    "}\n",
    "\n",
    "*/\n",
    "start.Display();\n",
    "\n",
    "readonly record struct Coordinate(int x, int y)\n",
    "{\n",
    "    public IEnumerable<Coordinate> Neighbours(int maxX, int maxY)\n",
    "    {\n",
    "        if (x > 0) yield return this with { x = x - 1 };\n",
    "        if (y > 0) yield return this with { y = y - 1 };\n",
    "        if (x < maxX) yield return this with { x = x + 1 };\n",
    "        if (y < maxY) yield return this with { y = y + 1 };\n",
    "    }\n",
    "}"
   ]
  },
  {
   "cell_type": "code",
   "execution_count": null,
   "metadata": {
    "dotnet_interactive": {
     "language": "javascript"
    },
    "polyglot_notebook": {
     "kernelName": "javascript"
    }
   },
   "outputs": [],
   "source": []
  }
 ],
 "metadata": {
  "kernelspec": {
   "display_name": ".NET (C#)",
   "language": "C#",
   "name": ".net-csharp"
  },
  "polyglot_notebook": {
   "kernelInfo": {
    "defaultKernelName": "csharp",
    "items": [
     {
      "aliases": [
       "c#",
       "C#"
      ],
      "languageName": "C#",
      "name": "csharp"
     },
     {
      "aliases": [
       "frontend"
      ],
      "name": "vscode"
     },
     {
      "aliases": [],
      "name": ".NET"
     },
     {
      "aliases": [
       "f#",
       "F#"
      ],
      "languageName": "F#",
      "name": "fsharp"
     },
     {
      "aliases": [],
      "languageName": "HTML",
      "name": "html"
     },
     {
      "aliases": [
       "js"
      ],
      "languageName": "JavaScript",
      "name": "javascript"
     },
     {
      "aliases": [],
      "languageName": "KQL",
      "name": "kql"
     },
     {
      "aliases": [],
      "languageName": "Mermaid",
      "name": "mermaid"
     },
     {
      "aliases": [
       "powershell"
      ],
      "languageName": "PowerShell",
      "name": "pwsh"
     },
     {
      "aliases": [],
      "languageName": "SQL",
      "name": "sql"
     },
     {
      "aliases": [],
      "name": "value"
     },
     {
      "aliases": [],
      "name": "webview"
     }
    ]
   }
  }
 },
 "nbformat": 4,
 "nbformat_minor": 2
}
