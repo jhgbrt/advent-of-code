{
 "cells": [
  {
   "cell_type": "code",
   "execution_count": 224,
   "metadata": {
    "dotnet_interactive": {
     "language": "csharp"
    },
    "polyglot_notebook": {
     "kernelName": "csharp"
    }
   },
   "outputs": [],
   "source": [
    "using System.IO;\n",
    "using System.Text.RegularExpressions;\n",
    "using Microsoft.DotNet.Interactive.Formatting;\n",
    "using System.Globalization;\n",
    "using System.Text.Json;\n",
    "using Microsoft.DotNet.Interactive.Formatting.TabularData;\n",
    "static class RegexHelper\n",
    "{\n",
    "    public static T As<T>(Regex regex, string s, IFormatProvider? provider = null) where T: struct\n",
    "    {\n",
    "        var match = regex.Match(s);\n",
    "        if (!match.Success) throw new InvalidOperationException($\"input '{s}' does not match regex '{regex}'\");\n",
    "\n",
    "        var constructor = typeof(T).GetConstructors().Single();\n",
    "        \n",
    "        var j = from p in constructor.GetParameters()\n",
    "                join m in match.Groups.OfType<Group>() on p.Name equals m.Name\n",
    "                select Convert.ChangeType(m.Value, p.ParameterType, provider ?? CultureInfo.InvariantCulture);\n",
    "\n",
    "        return (T)constructor.Invoke(j.ToArray());\n",
    "\n",
    "    }\n",
    "\n",
    "}\n",
    "\n",
    "var input = File.ReadLines(\"input.txt\").Skip(2);\n",
    "var regex = new Regex(@\"/dev/grid/node-x(?<x>\\d+)-y(?<y>\\d+) +\\d+T +(?<used>\\d+)T +(?<avail>\\d+)T +\\d+%\");\n",
    "\n",
    "var nodes = (\n",
    "    from line in input\n",
    "    let data = RegexHelper.As<Data>(regex, line)\n",
    "    select new Node(new Coordinate(data.x, data.y), data.used, data.avail)\n",
    "    ).ToList();\n",
    "\n",
    "\n",
    "\n",
    "// Filesystem              Size  Used  Avail  Use%\n",
    "// /dev/grid/node-x0-y0     92T   68T    24T   73%\n",
    "\n",
    "readonly record struct Data(int x, int y, int used, int avail);\n",
    "readonly record struct Node(Coordinate c, int used, int avail);\n",
    "readonly record struct Coordinate(int x, int y)\n",
    "{\n",
    "    public IEnumerable<Coordinate> Neighbours(int maxX, int maxY)\n",
    "    {\n",
    "        if (x > 0) yield return this with {x = x - 1};\n",
    "        if (y > 0) yield return this with {y = y - 1};\n",
    "        if (x < maxX) yield return this with {x = x + 1};\n",
    "        if (y < maxY) yield return this with {y = y + 1};\n",
    "    }\n",
    "}\n"
   ]
  },
  {
   "attachments": {},
   "cell_type": "markdown",
   "metadata": {
    "dotnet_interactive": {
     "language": "csharp"
    },
    "polyglot_notebook": {
     "kernelName": "csharp"
    }
   },
   "source": [
    "A viable pair is any two nodes (A,B), regardless of whether they are directly connected, such that:\n",
    "\n",
    "* Node A is not empty (its Used is not zero).\n",
    "* Nodes A and B are not the same node.\n",
    "* The data on node A (its Used) would fit on node B (its Avail)."
   ]
  },
  {
   "cell_type": "code",
   "execution_count": 225,
   "metadata": {
    "dotnet_interactive": {
     "language": "csharp"
    },
    "polyglot_notebook": {
     "kernelName": "csharp"
    }
   },
   "outputs": [],
   "source": [
    "\n",
    "var viable = from a in nodes\n",
    "             from b in nodes\n",
    "             where a.c != b.c\n",
    "             where a.used > 0\n",
    "             where b.avail >= a.used\n",
    "             select (a, b);\n",
    "\n"
   ]
  },
  {
   "cell_type": "code",
   "execution_count": 226,
   "metadata": {
    "dotnet_interactive": {
     "language": "csharp"
    },
    "polyglot_notebook": {
     "kernelName": "csharp"
    }
   },
   "outputs": [
    {
     "name": "stdout",
     "output_type": "stream",
     "text": [
      ".....................................\n",
      ".....................................\n",
      ".....................................\n",
      ".####################################\n",
      ".....................................\n",
      ".....................................\n",
      "..................._.................\n",
      ".....................................\n",
      ".....................................\n",
      ".....................................\n",
      "\n",
      "G_...................................\n",
      ".....................................\n",
      ".....................................\n",
      ".####################################\n",
      ".....................................\n",
      ".....................................\n",
      ".....................................\n",
      ".....................................\n",
      ".....................................\n",
      ".....................................\n",
      "\n"
     ]
    },
    {
     "data": {
      "text/html": [
       "<div class=\"dni-plaintext\"><pre>236</pre></div><style>\r\n",
       ".dni-code-hint {\r\n",
       "    font-style: italic;\r\n",
       "    overflow: hidden;\r\n",
       "    white-space: nowrap;\r\n",
       "}\r\n",
       ".dni-treeview {\r\n",
       "    white-space: nowrap;\r\n",
       "}\r\n",
       ".dni-treeview td {\r\n",
       "    vertical-align: top;\r\n",
       "    text-align: start;\r\n",
       "}\r\n",
       "details.dni-treeview {\r\n",
       "    padding-left: 1em;\r\n",
       "}\r\n",
       "table td {\r\n",
       "    text-align: start;\r\n",
       "}\r\n",
       "table tr { \r\n",
       "    vertical-align: top; \r\n",
       "    margin: 0em 0px;\r\n",
       "}\r\n",
       "table tr td pre \r\n",
       "{ \r\n",
       "    vertical-align: top !important; \r\n",
       "    margin: 0em 0px !important;\r\n",
       "} \r\n",
       "table th {\r\n",
       "    text-align: start;\r\n",
       "}\r\n",
       "</style>"
      ]
     },
     "metadata": {},
     "output_type": "display_data"
    }
   ],
   "source": [
    "\n",
    "var table = (\n",
    "    from node in nodes\n",
    "    group node by node.c.y into g\n",
    "    orderby g.Key\n",
    "    let row = (from item in g\n",
    "               orderby item.c.x\n",
    "               select item.used switch \n",
    "               {\n",
    "                    0 => \"_\",\n",
    "                    > 100 => \"#\",\n",
    "                    _ => \".\"\n",
    "               }\n",
    "               ).ToList()\n",
    "    select row).ToList();\n",
    "\n",
    "var empty = (from node in nodes where node.used == 0 select node.c).Single();\n",
    "var walls = (from node in nodes where node.used > 100 select node.c).ToHashSet();\n",
    "var goal = new Coordinate(36, 0);\n",
    "\n",
    "foreach (var row in table.Take(10)) \n",
    "    Console.WriteLine(string.Join(\"\", row));\n",
    "\n",
    "int steps = 0;\n",
    "for (int i = 0; i < 19; i++) empty = empty with {x = empty.x - 1};\n",
    "steps += 19;\n",
    "for (int i = 0; i < 6; i++) empty = empty with {y = empty.y - 1};\n",
    "steps += 6;\n",
    "for (int i = 0; i < 35; i++) empty = empty with {x = empty.x + 1};\n",
    "steps += 35;\n",
    "(goal, empty) = (empty, goal);\n",
    "steps += 1;\n",
    "for (int j = 0; j < 35; j++)\n",
    "{\n",
    "    for (int i = 0; i < 1; i++) empty = empty with {y = empty.y + 1};\n",
    "    for (int i = 0; i < 2; i++) empty = empty with {x = empty.x - 1};\n",
    "    for (int i = 0; i < 1; i++) empty = empty with {y = empty.y - 1};\n",
    "    (goal, empty) = (empty, goal);\n",
    "    steps += 5;\n",
    "}\n",
    "Console.WriteLine();\n",
    "var sb = new StringBuilder();\n",
    "for (int y = 0; y < 10; y++)\n",
    "{\n",
    "    for (int x = 0; x <37; x++)\n",
    "    {\n",
    "        var c = new Coordinate(x,y);\n",
    "        if (c == empty)\n",
    "            sb.Append('_');\n",
    "        else if (c == goal)\n",
    "            sb.Append('G');\n",
    "        else if (walls.Contains(c))\n",
    "            sb.Append('#');\n",
    "        else\n",
    "            sb.Append('.');\n",
    "    }\n",
    "    sb.AppendLine();\n",
    "}\n",
    "Console.WriteLine(sb.ToString());\n",
    "steps\n",
    "\n",
    "\n"
   ]
  }
 ],
 "metadata": {
  "kernelspec": {
   "display_name": ".NET (C#)",
   "language": "C#",
   "name": ".net-csharp"
  },
  "polyglot_notebook": {
   "kernelInfo": {
    "defaultKernelName": "csharp",
    "items": [
     {
      "aliases": [
       "c#",
       "C#"
      ],
      "languageName": "C#",
      "name": "csharp"
     },
     {
      "aliases": [],
      "name": ".NET"
     },
     {
      "aliases": [
       "frontend"
      ],
      "name": "vscode"
     },
     {
      "aliases": [
       "f#",
       "F#"
      ],
      "languageName": "F#",
      "name": "fsharp"
     },
     {
      "aliases": [],
      "languageName": "HTML",
      "name": "html"
     },
     {
      "aliases": [],
      "languageName": "KQL",
      "name": "kql"
     },
     {
      "aliases": [],
      "languageName": "Mermaid",
      "name": "mermaid"
     },
     {
      "aliases": [
       "powershell"
      ],
      "languageName": "PowerShell",
      "name": "pwsh"
     },
     {
      "aliases": [],
      "languageName": "SQL",
      "name": "sql"
     },
     {
      "aliases": [],
      "name": "value"
     }
    ]
   }
  }
 },
 "nbformat": 4,
 "nbformat_minor": 2
}
