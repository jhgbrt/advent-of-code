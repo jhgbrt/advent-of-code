{
 "cells": [
  {
   "attachments": {},
   "cell_type": "markdown",
   "metadata": {},
   "source": [
    "Read the input"
   ]
  },
  {
   "cell_type": "code",
   "execution_count": 140,
   "metadata": {
    "dotnet_interactive": {
     "language": "csharp"
    },
    "polyglot_notebook": {
     "kernelName": "csharp"
    },
    "vscode": {
     "languageId": "polyglot-notebook"
    }
   },
   "outputs": [],
   "source": [
    "using System.IO;\n",
    "var input = await File.ReadAllLinesAsync(\"input.txt\");\n"
   ]
  },
  {
   "attachments": {},
   "cell_type": "markdown",
   "metadata": {
    "dotnet_interactive": {
     "language": "csharp"
    },
    "polyglot_notebook": {
     "kernelName": "csharp"
    }
   },
   "source": [
    "Define data types. The `Instruction` interface has an `Apply` method which transforms a `StringBuilder` according to the instructions.\n",
    "\n",
    "Starting with the password to be scrambled, apply each operation in succession to the string. The individual operations behave as follows:\n",
    "\n",
    "* swap position X with position Y means that the letters at indexes X and Y (counting from 0) should be swapped.\n",
    "* swap letter X with letter Y means that the letters X and Y should be swapped (regardless of where they appear in the string).\n",
    "* rotate left/right X steps means that the whole string should be rotated; for example, one right rotation would turn abcd into dabc.\n",
    "* rotate based on position of letter X means that the whole string should be rotated to the right based on the index of letter X (counting from 0) as determined before this instruction does any rotations. Once the index is determined, rotate the string to the right one time, plus a number of times equal to that index, plus one additional time if the index was at least 4.\n",
    "* reverse positions X through Y means that the span of letters at indexes X through Y (including the letters at X and Y) should be reversed in order.\n",
    "* move position X to position Y means that the letter which is at index X should be removed from the string, then inserted such that it ends up at index Y."
   ]
  },
  {
   "cell_type": "code",
   "execution_count": 171,
   "metadata": {
    "dotnet_interactive": {
     "language": "csharp"
    },
    "polyglot_notebook": {
     "kernelName": "csharp"
    },
    "vscode": {
     "languageId": "polyglot-notebook"
    }
   },
   "outputs": [],
   "source": [
    "\n",
    "\n",
    "interface Instruction \n",
    "{\n",
    "    StringBuilder Apply(StringBuilder input);\n",
    "    Instruction Reverse();\n",
    "}\n",
    "\n",
    "// move position X to position Y means that the letter which is at index X should be removed \n",
    "// from the string, then inserted such that it ends up at index Y.\n",
    "record struct Move(int from, int to) : Instruction\n",
    "{\n",
    "    public StringBuilder Apply(StringBuilder input) \n",
    "    {\n",
    "        var c = input[from];\n",
    "        return input.Remove(from, 1).Insert(to, c);\n",
    "    }\n",
    "    public Instruction Reverse() => new Move(to, from);\n",
    "}\n",
    "\n",
    "record struct SwapP(int x, int y): Instruction\n",
    "{\n",
    "    public StringBuilder Apply(StringBuilder input)\n",
    "    {\n",
    "        var c = input[x];\n",
    "        input[x] = input[y];\n",
    "        input[y] = c;\n",
    "        return input;\n",
    "    }\n",
    "    public Instruction Reverse() => this;\n",
    "}\n",
    "\n",
    "record struct SwapL(char a, char b): Instruction\n",
    "{\n",
    "    public StringBuilder Apply(StringBuilder input) \n",
    "    {\n",
    "        var (x,y) = (-1, -1);\n",
    "        for (int i = 0; i < input.Length; i++)\n",
    "        {\n",
    "            if (input[i] == a) x = i;\n",
    "            if (input[i] == b) y = i;\n",
    "        }\n",
    "        return new SwapP(x,y).Apply(input);\n",
    "    }\n",
    "    public Instruction Reverse() => this;\n",
    "}\n",
    "\n",
    "record struct Reverse(int x, int y): Instruction\n",
    "{\n",
    "    public StringBuilder Apply(StringBuilder input) \n",
    "    {\n",
    "        var sb = new StringBuilder();\n",
    "        for (int i = y; i >= x; i--)\n",
    "        {\n",
    "            sb.Append(input[i]);\n",
    "        }\n",
    "        input.Remove(x, sb.Length);\n",
    "        input.Insert(x, sb);\n",
    "        return input;\n",
    "    }\n",
    "    Instruction Instruction.Reverse() => this;\n",
    "}\n",
    "\n",
    "// rotate left/right X steps means that the whole string should be rotated; for example, one right rotation would turn abcd into dabc.\n",
    "record struct RotateL(int n): Instruction\n",
    "{\n",
    "    public StringBuilder Apply(StringBuilder input) \n",
    "    {\n",
    "        for (int i = 0; i < n; i++)\n",
    "        {\n",
    "            input.Append(input[0]);\n",
    "            input.Remove(0, 1);\n",
    "        }\n",
    "        return input;\n",
    "    }\n",
    "    public Instruction Reverse() => new RotateR(n);\n",
    "}\n",
    "\n",
    "// rotate left/right X steps means that the whole string should be rotated; for example, one right rotation would turn abcd into dabc.\n",
    "record struct RotateR(int n): Instruction\n",
    "{\n",
    "    public StringBuilder Apply(StringBuilder input) \n",
    "    {\n",
    "        for (int i = 0; i < n; i++)\n",
    "        {\n",
    "            input.Insert(0, input[input.Length-1]);\n",
    "            input.Remove(input.Length - 1, 1);\n",
    "        }\n",
    "        return input;\n",
    "    }\n",
    "    public Instruction Reverse() => new RotateL(n);\n",
    "}\n",
    "\n",
    "\n",
    "// rotate based on position of letter X means that the whole string should be rotated to the right based on the \n",
    "// index of letter X (counting from 0) as determined before this instruction does any rotations. Once the index \n",
    "// is determined, rotate the string to the right one time, plus a number of times equal to that index, plus \n",
    "// one additional time if the index was at least 4.\n",
    "record struct Rotate(char l): Instruction\n",
    "{\n",
    "   \n",
    "\n",
    "\n",
    "    public StringBuilder Apply(StringBuilder input) \n",
    "    {\n",
    "        int index = -1;\n",
    "        for (int i = 0; i < input.Length; i++)\n",
    "        {\n",
    "            if (input[i] == l)\n",
    "            {\n",
    "                index = i;\n",
    "                break;\n",
    "            }\n",
    "        }\n",
    "\n",
    "        var rotations = index + 1;\n",
    "        if (index >= 4) rotations ++;\n",
    "\n",
    "        return new RotateR(rotations).Apply(input);\n",
    "    }\n",
    "    public Instruction Reverse() => new Rotate(l);\n",
    "}\n",
    "\n",
    "record struct Rotate2(IReadOnlyDictionary<int,int> forward, IReadOnlyDictionary<int,int> reverse, char l): Instruction\n",
    "{\n",
    "    public StringBuilder Apply(StringBuilder input) \n",
    "    {\n",
    "        int index = -1;\n",
    "        for (int i = 0; i < input.Length; i++)\n",
    "        {\n",
    "            if (input[i] == l)\n",
    "            {\n",
    "                index = i;\n",
    "                break;\n",
    "            }\n",
    "        }\n",
    "        var r = forward[index];\n",
    "        return new RotateR(r).Apply(input);\n",
    "    }\n",
    "    public Instruction Reverse() => new Rotate2L(reverse, forward, l);\n",
    "}\n",
    "\n",
    "record struct Rotate2L(IReadOnlyDictionary<int,int> forward, IReadOnlyDictionary<int,int> reverse, char l): Instruction\n",
    "{\n",
    "    public StringBuilder Apply(StringBuilder input) \n",
    "    {\n",
    "        int index = -1;\n",
    "        for (int i = 0; i < input.Length; i++)\n",
    "        {\n",
    "            if (input[i] == l)\n",
    "            {\n",
    "                index = i;\n",
    "                break;\n",
    "            }\n",
    "        }\n",
    "        var r = forward[index];\n",
    "        return new RotateL(r).Apply(input);\n",
    "    }\n",
    "    public Instruction Reverse() => new Rotate2(reverse, forward, l);\n",
    "}\n",
    "\n",
    "\n",
    "\n",
    "\n"
   ]
  },
  {
   "attachments": {},
   "cell_type": "markdown",
   "metadata": {
    "dotnet_interactive": {
     "language": "csharp"
    },
    "polyglot_notebook": {
     "kernelName": "csharp"
    }
   },
   "source": [
    "The code below parses the input, transforming every line to the corresponding instruction."
   ]
  },
  {
   "cell_type": "code",
   "execution_count": 172,
   "metadata": {
    "dotnet_interactive": {
     "language": "csharp"
    },
    "polyglot_notebook": {
     "kernelName": "csharp"
    },
    "vscode": {
     "languageId": "polyglot-notebook"
    }
   },
   "outputs": [],
   "source": [
    "IReadOnlyDictionary<int,int> forward;\n",
    "IReadOnlyDictionary<int,int> reverse;\n",
    "var pw = \"abcdefgh\";\n",
    "var query = from x in pw.Select((c,i) => (c,i))\n",
    "        let c = x.c\n",
    "        let i = x.i\n",
    "        let r = i < 4 ? i + 1 : i + 2\n",
    "        let t = new Rotate(c).Apply(new StringBuilder(pw)).ToString()\n",
    "        let j = t.IndexOf(c)\n",
    "        select (i, j, r);\n",
    "forward = query.ToDictionary(x => x.i, x => x.r);\n",
    "reverse = query.ToDictionary(x => x.j, x => x.r);\n",
    "\n",
    "var q = from line in input\n",
    "        let split = line.Split(' ')\n",
    "        let item = (split[0], split[1]) switch\n",
    "        {\n",
    "            (\"move\", \"position\") => new Move(int.Parse(split[2]), int.Parse(split[5])) as Instruction,\n",
    "            (\"swap\", \"position\") => new SwapP(int.Parse(split[2]), int.Parse(split[5])),\n",
    "            (\"swap\", \"letter\") => new SwapL(split[2][0], split[5][0]),\n",
    "            (\"reverse\", \"positions\") => new Reverse(int.Parse(split[2]), int.Parse(split[4])),\n",
    "            (\"rotate\", \"left\") => new RotateL(int.Parse(split[2])),\n",
    "            (\"rotate\", \"right\") => new RotateR(int.Parse(split[2])),\n",
    "            (\"rotate\", \"based\") => new Rotate2(forward, reverse, split[6][0])\n",
    "        }\n",
    "        select item;\n",
    "\n"
   ]
  },
  {
   "attachments": {},
   "cell_type": "markdown",
   "metadata": {
    "dotnet_interactive": {
     "language": "csharp"
    },
    "polyglot_notebook": {
     "kernelName": "csharp"
    }
   },
   "source": [
    "Finally, loop over all instructions and scramble the password. "
   ]
  },
  {
   "cell_type": "code",
   "execution_count": 176,
   "metadata": {
    "dotnet_interactive": {
     "language": "csharp"
    },
    "polyglot_notebook": {
     "kernelName": "csharp"
    },
    "vscode": {
     "languageId": "polyglot-notebook"
    }
   },
   "outputs": [
    {
     "name": "stdout",
     "output_type": "stream",
     "text": [
      "dgfaehcb\n",
      "dgfaehcb\n",
      "fdhgacbe\n"
     ]
    }
   ],
   "source": [
    "var sb = new StringBuilder(pw);\n",
    "foreach (var item in q)\n",
    "    sb = item.Apply(sb);\n",
    "Console.WriteLine(sb);\n",
    "\n",
    "foreach (var item in q)\n",
    "{\n",
    "    var sb2 = new StringBuilder(pw);\n",
    "    sb2 = item.Apply(sb2);\n",
    "    sb2 = item.Reverse().Apply(sb2);\n",
    "    if (sb2.ToString() != pw)\n",
    "    {\n",
    "        Console.WriteLine($\"{pw} -> {item} -> {sb2}\");\n",
    "    }\n",
    "}\n",
    "\n",
    "Console.WriteLine(sb);\n",
    "// \"fbgdceah\"\n",
    "var sb3 = new StringBuilder(\"fbgdceah\");\n",
    "foreach (var item in q.Reverse())\n",
    "{\n",
    "    sb3 = item.Reverse().Apply(sb3);\n",
    "}\n",
    "Console.WriteLine(sb3);\n"
   ]
  },
  {
   "cell_type": "markdown",
   "metadata": {
    "dotnet_interactive": {
     "language": "csharp"
    },
    "polyglot_notebook": {
     "kernelName": "csharp"
    }
   },
   "source": []
  }
 ],
 "metadata": {
  "kernelspec": {
   "display_name": ".NET (C#)",
   "language": "C#",
   "name": ".net-csharp"
  },
  "polyglot_notebook": {
   "kernelInfo": {
    "defaultKernelName": "csharp",
    "items": [
     {
      "aliases": [
       "c#",
       "C#"
      ],
      "languageName": "C#",
      "name": "csharp"
     },
     {
      "aliases": [],
      "languageName": null,
      "name": ".NET"
     },
     {
      "aliases": [
       "frontend"
      ],
      "languageName": null,
      "name": "vscode"
     }
    ]
   }
  }
 },
 "nbformat": 4,
 "nbformat_minor": 2
}
